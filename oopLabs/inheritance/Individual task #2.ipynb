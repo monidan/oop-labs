{
 "cells": [
  {
   "cell_type": "markdown",
   "metadata": {},
   "source": [
    "Індивідуальне завдання №2\n",
    "Виконати завдання 1 і 2 лекції №8.\n",
    "\n",
    "1.Створити метод переводу студента на наступний курс навчання. Студент розпочинає навчання з 1-го курсу\n",
    "\n",
    "2.Після 5 років навчання видати інформацію про завершення навчання в університеті\n",
    "    "
   ]
  },
  {
   "cell_type": "code",
   "execution_count": 28,
   "metadata": {},
   "outputs": [],
   "source": [
    "class Student():\n",
    "    courses = [\"СППР\", \"ІТ\", \"Бази даних\"]\n",
    "    age = 20\n",
    "    study_year = 1\n",
    "    range = \"A\"\n",
    "    isGraduated = False\n",
    "\n",
    "    def have_a_birthday(self):\n",
    "        \"\"\"Метод, який збільшує вік екземпляру класу\"\"\"\n",
    "        self.age += 1\n",
    "        \n",
    "    def graduate_study_year(self):\n",
    "        if self.isGraduated == False:\n",
    "            self.study_year += 1\n",
    "        \n",
    "        if self.study_year > 5:\n",
    "            self.graduate_from_university()\n",
    "        else:\n",
    "            print('Current study year: ', self.study_year)\n",
    "         \n",
    "        \n",
    "    def graduate_from_university(self):\n",
    "        print('*Information about graduating university*')"
   ]
  },
  {
   "cell_type": "code",
   "execution_count": 29,
   "metadata": {},
   "outputs": [
    {
     "name": "stdout",
     "output_type": "stream",
     "text": [
      "Starting study year:  1\n",
      "Current study year:  2\n",
      "Current study year:  3\n"
     ]
    }
   ],
   "source": [
    "john = Student()\n",
    "\n",
    "print('Starting study year: ', john.study_year)\n",
    "\n",
    "john.graduate_study_year()\n",
    "john.graduate_study_year()"
   ]
  },
  {
   "cell_type": "code",
   "execution_count": 31,
   "metadata": {},
   "outputs": [
    {
     "name": "stdout",
     "output_type": "stream",
     "text": [
      "Starting study year:  1\n",
      "Current study year:  2\n",
      "Current study year:  3\n",
      "Current study year:  4\n",
      "Current study year:  5\n",
      "*Information about graduating university*\n",
      "*Information about graduating university*\n"
     ]
    }
   ],
   "source": [
    "jack = Student()\n",
    "\n",
    "print('Starting study year: ', jack.study_year)\n",
    "\n",
    "for i in range(6):\n",
    "    jack.graduate_study_year()"
   ]
  },
  {
   "cell_type": "code",
   "execution_count": null,
   "metadata": {},
   "outputs": [],
   "source": []
  }
 ],
 "metadata": {
  "kernelspec": {
   "display_name": "conda_python3",
   "language": "python",
   "name": "conda_python3"
  },
  "language_info": {
   "codemirror_mode": {
    "name": "ipython",
    "version": 3
   },
   "file_extension": ".py",
   "mimetype": "text/x-python",
   "name": "python",
   "nbconvert_exporter": "python",
   "pygments_lexer": "ipython3",
   "version": "3.6.10"
  }
 },
 "nbformat": 4,
 "nbformat_minor": 4
}
