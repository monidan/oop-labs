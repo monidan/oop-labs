{
 "cells": [
  {
   "cell_type": "markdown",
   "metadata": {},
   "source": [
    "## Індивідуальне завдання №3\n",
    "\n",
    "Виконати завдання 1 і 5 лекції №9.\n",
    "\n",
    "1. Cтворити клас (будь-якої предметної галузі). Визначити 4 методи у створеному класі.\n",
    "\n",
    "2. Застосувати визначені методи до 3-х різних екземплярів класу. Провести інтерпретацію.\n",
    "\n",
    "3. Створити один базовий клас з 3-ма власними методами.\n",
    "\n",
    "4. Створити успадкований клас з 2-ма іншими методами (ніж у базовому класі) на основі базового класу\n",
    "\n",
    "5. Створити 2 екземпляри успадкованого класу. Застосувати до цих екземплярів: 1 метод базового класу і 1 метод успадкованого класу. Методи базового і успадкованого класу повинні бути різними для різних екземплярів класу. \n",
    "\n",
    "Провести гейміфіковану інтерпретацію виконання коду. \n"
   ]
  },
  {
   "cell_type": "code",
   "execution_count": 2,
   "metadata": {},
   "outputs": [],
   "source": [
    "class User:\n",
    "    def __init__(self, nickname, role):\n",
    "        self._nickname = nickname\n",
    "        self._role = role\n",
    "    \n",
    "    def describe_yourself(self): \n",
    "        print('My nickname is ', self._nickname)\n",
    "        print('My role is ', self._role)\n",
    "        \n",
    "    def change_role(self, new_role):\n",
    "        if len(new_role) > 0:\n",
    "            self._role = new_role\n",
    "            print('Role was changed successfully!')\n",
    "        else:\n",
    "            print('Error in changing role!')\n",
    "            \n",
    "    def change_nickname(self, new_nickname):\n",
    "        if len(new_nickname) > 0:\n",
    "            self._nickname = new_nickname\n",
    "            print('Nickname was changed successfully!')\n",
    "        else:\n",
    "            print('Error in changing nickname!')\n",
    "            \n",
    "    def tell_sad_news(self):\n",
    "        print('Jeff Bezos is stepping down as CEO of Amazon.')\n",
    "    \n",
    "    \n",
    "        "
   ]
  },
  {
   "cell_type": "code",
   "execution_count": 3,
   "metadata": {},
   "outputs": [
    {
     "name": "stdout",
     "output_type": "stream",
     "text": [
      "My nickname is  monidan\n",
      "My role is  developer\n",
      "Nickname was changed successfully!\n",
      "Role was changed successfully!\n",
      "My nickname is  bezos\n",
      "My role is  founder\n"
     ]
    }
   ],
   "source": [
    "new_user = User('monidan', 'developer')\n",
    "\n",
    "new_user.describe_yourself();\n",
    "\n",
    "new_user.change_nickname('bezos')\n",
    "new_user.change_role('founder')\n",
    "\n",
    "new_user.describe_yourself();"
   ]
  },
  {
   "cell_type": "code",
   "execution_count": 19,
   "metadata": {},
   "outputs": [],
   "source": [
    "class Shape:\n",
    "    def __init__(self, color='black'):\n",
    "        self._color = color\n",
    "        \n",
    "    def get_color(self):\n",
    "        return self._color\n",
    "    \n",
    "    def set_color(self, new_color):\n",
    "        if len(new_color) > 0:\n",
    "            self._color = new_color\n",
    "        else:\n",
    "            print('Error')\n",
    "            \n",
    "class Rectangle(Shape):\n",
    "    def __init__(self, width, height):\n",
    "        super().__init__()\n",
    "        self._width = width\n",
    "        self._height = height\n",
    "        \n",
    "    def calculate_area(self):\n",
    "        return self._width * self._height\n",
    "    \n",
    "    def calculcate_perimeter(self):\n",
    "        return 2 * self._width + 2 * self._height"
   ]
  },
  {
   "cell_type": "code",
   "execution_count": 20,
   "metadata": {},
   "outputs": [
    {
     "name": "stdout",
     "output_type": "stream",
     "text": [
      "First rectangle area is  250\n",
      "Second rectangle color is  black\n"
     ]
    }
   ],
   "source": [
    "first_rectangle = Rectangle(25, 10)\n",
    "second_rectangle = Rectangle(10, 5)\n",
    "\n",
    "print('First rectangle area is ', first_rectangle.calculate_area())\n",
    "print('Second rectangle color is ', second_rectangle.get_color())"
   ]
  },
  {
   "cell_type": "code",
   "execution_count": null,
   "metadata": {},
   "outputs": [],
   "source": []
  }
 ],
 "metadata": {
  "kernelspec": {
   "display_name": "conda_python3",
   "language": "python",
   "name": "conda_python3"
  },
  "language_info": {
   "codemirror_mode": {
    "name": "ipython",
    "version": 3
   },
   "file_extension": ".py",
   "mimetype": "text/x-python",
   "name": "python",
   "nbconvert_exporter": "python",
   "pygments_lexer": "ipython3",
   "version": "3.6.10"
  }
 },
 "nbformat": 4,
 "nbformat_minor": 4
}
